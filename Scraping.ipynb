{
 "cells": [
  {
   "cell_type": "code",
   "execution_count": 1,
   "id": "parliamentary-location",
   "metadata": {},
   "outputs": [],
   "source": [
    "import pandas as pd\n",
    "\n",
    "import urllib.request, urllib.parse, urllib.error\n",
    "from bs4 import BeautifulSoup\n",
    "import ssl\n",
    "import re"
   ]
  },
  {
   "cell_type": "code",
   "execution_count": 2,
   "id": "bound-saturday",
   "metadata": {},
   "outputs": [
    {
     "name": "stdout",
     "output_type": "stream",
     "text": [
      "['', 'Arjun Tendulkar', 'Bowling Allrounder • India', 'SOLD', 'Base Price 20.00', 'Lakh', 'Final Price 20.00', 'Lakh', 'Sold To MI', '']\n"
     ]
    }
   ],
   "source": [
    "# Ignore SSL certificate errors\n",
    "ctx = ssl.create_default_context()\n",
    "ctx.check_hostname = False\n",
    "ctx.verify_mode = ssl.CERT_NONE\n",
    "\n",
    "hdr = {'User-Agent': 'Mozilla/5.0 (X11; Linux x86_64) AppleWebKit/537.11 (KHTML, like Gecko) Chrome/23.0.1271.64 Safari/537.11',\n",
    "       'Accept': 'text/html,application/xhtml+xml,application/xml;q=0.9,*/*;q=0.8',\n",
    "       'Accept-Charset': 'ISO-8859-1,utf-8;q=0.7,*;q=0.3',\n",
    "       'Accept-Encoding': 'none',\n",
    "       'Accept-Language': 'en-US,en;q=0.8',\n",
    "       'Connection': 'keep-alive'}\n",
    "\n",
    "# url = input('Enter - ')\n",
    "url = 'https://www.cricbuzz.com/cricket-series/ipl-2021/auction/completed'\n",
    "\n",
    "\n",
    "req = urllib.request.Request(url, headers=hdr)\n",
    "page = urllib.request.urlopen(req, context=ctx)\n",
    "html = page.read()\n",
    "\n",
    "soup = BeautifulSoup(html, 'html.parser')\n",
    "\n",
    "lst = list()\n",
    "tags = soup('a')\n",
    "\n",
    "raw_data = list()\n",
    "link=\"cb-col cb-col-100 cb-font-14 text-center\"\n",
    "\n",
    "div = soup.find_all('a', {\"class\" : link})\n",
    "for d in div:\n",
    "    raw_data.append(re.split(r'\\s{2,}', d.text))\n",
    "    \n",
    "print(raw_data[0])"
   ]
  },
  {
   "cell_type": "code",
   "execution_count": 3,
   "id": "accessory-butterfly",
   "metadata": {
    "scrolled": true
   },
   "outputs": [],
   "source": [
    "name = list()\n",
    "speciality = list()\n",
    "country = list()\n",
    "status = list()\n",
    "base_price = list()\n",
    "final_price = list()\n",
    "team = list()\n",
    "\n",
    "for plyr in raw_data:\n",
    "    x = plyr[2].split(\"•\")\n",
    "    if len(x) > 1: \n",
    "        name.append(plyr[1])\n",
    "        speciality.append(x[0])\n",
    "        country.append(x[1])\n",
    "\n",
    "        bs = int(float(plyr[4].split(\" \")[2]))\n",
    "        if plyr[5] == \"Crore\": bs *= 100\n",
    "        base_price.append(bs)\n",
    "         \n",
    "        status.append(plyr[3])\n",
    "        if plyr[3] == 'SOLD':\n",
    "            fp = int(float(plyr[6].split(\" \")[2]))\n",
    "            if plyr[7] == \"Crore\": fp *= 100\n",
    "            final_price.append(fp)    \n",
    "            team.append(plyr[8].split()[2])\n",
    "        else:\n",
    "            final_price.append('-')\n",
    "            team.append('-')"
   ]
  },
  {
   "cell_type": "code",
   "execution_count": 4,
   "id": "unlimited-desire",
   "metadata": {},
   "outputs": [],
   "source": [
    "df = pd.DataFrame({'Name': name,\n",
    "                   'Role': speciality,\n",
    "                   'Country': country,\n",
    "                   'Status': status,\n",
    "                   'Base_Price(Lakh)': base_price,\n",
    "                   'Final_Price(Lakh)': final_price,\n",
    "                   'Team': team})\n",
    "\n",
    "df.to_csv('auction.csv')"
   ]
  }
 ],
 "metadata": {
  "kernelspec": {
   "display_name": "Python 3",
   "language": "python",
   "name": "python3"
  },
  "language_info": {
   "codemirror_mode": {
    "name": "ipython",
    "version": 3
   },
   "file_extension": ".py",
   "mimetype": "text/x-python",
   "name": "python",
   "nbconvert_exporter": "python",
   "pygments_lexer": "ipython3",
   "version": "3.8.8"
  }
 },
 "nbformat": 4,
 "nbformat_minor": 5
}
